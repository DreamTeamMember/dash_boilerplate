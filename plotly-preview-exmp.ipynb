{
 "cells": [
  {
   "cell_type": "code",
   "execution_count": 2,
   "metadata": {},
   "outputs": [],
   "source": [
    "from jupyter_dash import JupyterDash\n",
    "from dash import Dash, dcc, html\n",
    "import dash_bootstrap_components as dbc\n",
    "from jupyter_dash.comms import _jupyter_config\n",
    "from jupyter_dash.comms import _send_jupyter_config_comm_request"
   ]
  },
  {
   "cell_type": "code",
   "execution_count": 3,
   "metadata": {},
   "outputs": [],
   "source": [
    "_send_jupyter_config_comm_request()"
   ]
  },
  {
   "cell_type": "code",
   "execution_count": 5,
   "metadata": {},
   "outputs": [],
   "source": [
    "JupyterDash.infer_jupyter_proxy_config()"
   ]
  },
  {
   "cell_type": "code",
   "execution_count": 6,
   "metadata": {},
   "outputs": [
    {
     "name": "stdout",
     "output_type": "stream",
     "text": [
      "Server proxy up and running !\n"
     ]
    }
   ],
   "source": [
    "if JupyterDash()._server_proxy:\n",
    "    print('Server proxy up and running !')\n",
    "else:\n",
    "    raise Exception('Something went wrong please reset kernel and reopen preview')"
   ]
  },
  {
   "cell_type": "code",
   "execution_count": 7,
   "metadata": {},
   "outputs": [
    {
     "data": {
      "text/plain": [
       "{'type': 'base_url_response',\n",
       " 'server_url': 'https://jupyter-dev.playstudios-il.com',\n",
       " 'base_subpath': '/user/guy%20serfaty/',\n",
       " 'frontend': 'jupyterlab'}"
      ]
     },
     "execution_count": 7,
     "metadata": {},
     "output_type": "execute_result"
    }
   ],
   "source": [
    "\n",
    "_jupyter_config"
   ]
  },
  {
   "cell_type": "code",
   "execution_count": 8,
   "metadata": {},
   "outputs": [],
   "source": [
    "import os\n",
    "\n",
    "os.environ['HOST_PREVIEW'] = '/user/guy%20serfaty/proxy/8050'\n",
    "\n",
    "%load_ext autoreload"
   ]
  },
  {
   "cell_type": "code",
   "execution_count": 19,
   "metadata": {},
   "outputs": [
    {
     "name": "stdout",
     "output_type": "stream",
     "text": [
      "Dash app running on https://jupyter-dev.playstudios-il.com/user/guy%20serfaty/proxy/8050/\n"
     ]
    }
   ],
   "source": [
    "%autoreload 2\n",
    "%reload_ext autoreload\n",
    "\n",
    "import app\n",
    "\n",
    "jd_app = JupyterDash(__name__, external_stylesheets=[dbc.themes.BOOTSTRAP], title=\"Boilerplate\", suppress_callback_exceptions=True)\n",
    "\n",
    "app.init_app(jd_app)\n",
    "jd_app.run_server(mode=\"external\")"
   ]
  },
  {
   "cell_type": "code",
   "execution_count": null,
   "metadata": {},
   "outputs": [],
   "source": []
  }
 ],
 "metadata": {
  "kernelspec": {
   "display_name": "pc6",
   "language": "python",
   "name": "pc6"
  },
  "language_info": {
   "codemirror_mode": {
    "name": "ipython",
    "version": 3
   },
   "file_extension": ".py",
   "mimetype": "text/x-python",
   "name": "python",
   "nbconvert_exporter": "python",
   "pygments_lexer": "ipython3",
   "version": "3.8.12"
  }
 },
 "nbformat": 4,
 "nbformat_minor": 4
}
